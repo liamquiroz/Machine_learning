{
  "nbformat": 4,
  "nbformat_minor": 0,
  "metadata": {
    "colab": {
      "provenance": []
    },
    "kernelspec": {
      "name": "python3",
      "display_name": "Python 3"
    },
    "language_info": {
      "name": "python"
    }
  },
  "cells": [
    {
      "cell_type": "markdown",
      "source": [
        "Problem Statement\n",
        "Misinformation is a growing problem in society, and detecting fake news automatically can help reduce its spread. This project aims to build a machine learning model that classifies news articles as real or fake using natural language processing (NLP) techniques."
      ],
      "metadata": {
        "id": "UlVXZqBtH3rU"
      }
    },
    {
      "cell_type": "code",
      "source": [
        "import numpy as np\n",
        "import pandas as pd\n",
        "import matplotlib.pyplot as plt\n",
        "import seaborn as sns\n",
        "\n",
        "from sklearn.datasets import fetch_20newsgroups\n",
        "from sklearn.feature_extraction.text import TfidfVectorizer\n",
        "from sklearn.model_selection import train_test_split\n",
        "from sklearn.linear_model import LogisticRegression\n",
        "from sklearn.naive_bayes import MultinomialNB\n",
        "from sklearn.metrics import accuracy_score, confusion_matrix, classification_report\n",
        "\n",
        "# Step 2: Load text dataset (simulating fake vs real news as two categories)\n",
        "categories = ['sci.space', 'talk.politics.misc']  # 2 categories = binary classification\n",
        "data = fetch_20newsgroups(subset='all', categories=categories, remove=('headers','footers','quotes'))\n",
        "\n",
        "X, y = data.data, data.target\n",
        "\n",
        "print(\"Number of samples:\", len(X))\n",
        "\n",
        "# Step 3: Train-test split\n",
        "X_train, X_test, y_train, y_test = train_test_split(X, y, test_size=0.2, random_state=42)\n",
        "\n",
        "# Step 4: Convert text to TF-IDF features\n",
        "vectorizer = TfidfVectorizer(stop_words='english', max_features=5000)\n",
        "X_train_tfidf = vectorizer.fit_transform(X_train)\n",
        "X_test_tfidf = vectorizer.transform(X_test)\n",
        "\n",
        "# Step 5: Train ML models\n",
        "log_reg = LogisticRegression(max_iter=2000)\n",
        "log_reg.fit(X_train_tfidf, y_train)\n",
        "\n",
        "nb = MultinomialNB()\n",
        "nb.fit(X_train_tfidf, y_train)\n",
        "\n",
        "# Step 6: Evaluate models\n",
        "y_pred_lr = log_reg.predict(X_test_tfidf)\n",
        "y_pred_nb = nb.predict(X_test_tfidf)\n",
        "\n",
        "print(\"\\n--- Logistic Regression ---\")\n",
        "print(\"Accuracy:\", accuracy_score(y_test, y_pred_lr))\n",
        "print(classification_report(y_test, y_pred_lr))\n",
        "\n",
        "print(\"\\n--- Naive Bayes ---\")\n",
        "print(\"Accuracy:\", accuracy_score(y_test, y_pred_nb))\n",
        "print(classification_report(y_test, y_pred_nb))\n",
        "\n",
        "# -------------------------\n",
        "# VISUALIZATIONS\n",
        "# -------------------------\n",
        "\n",
        "# Confusion Matrix (Logistic Regression)\n",
        "cm = confusion_matrix(y_test, y_pred_lr)\n",
        "plt.figure(figsize=(6,4))\n",
        "sns.heatmap(cm, annot=True, fmt=\"d\", cmap=\"Blues\", xticklabels=data.target_names, yticklabels=data.target_names)\n",
        "plt.title(\"Confusion Matrix - Logistic Regression\")\n",
        "plt.xlabel(\"Predicted\")\n",
        "plt.ylabel(\"Actual\")\n",
        "plt.show()\n",
        "\n",
        "# Top Features Visualization (Logistic Regression)\n",
        "feature_names = np.array(vectorizer.get_feature_names_out())\n",
        "coeffs = log_reg.coef_[0]\n",
        "top_idx = np.argsort(coeffs)[-10:]\n",
        "bottom_idx = np.argsort(coeffs)[:10]\n",
        "\n",
        "plt.figure(figsize=(10,6))\n",
        "plt.barh(feature_names[top_idx], coeffs[top_idx], color=\"green\")\n",
        "plt.barh(feature_names[bottom_idx], coeffs[bottom_idx], color=\"red\")\n",
        "plt.title(\"Top Words Influencing Fake vs Real Classification\")\n",
        "plt.xlabel(\"Coefficient Value\")\n",
        "plt.show()"
      ],
      "metadata": {
        "id": "MCB5Q9mrH30x"
      },
      "execution_count": null,
      "outputs": []
    }
  ]
}